{
 "cells": [
  {
   "cell_type": "code",
   "execution_count": 252,
   "metadata": {},
   "outputs": [
    {
     "name": "stdout",
     "output_type": "stream",
     "text": [
      "Append:['Violet', 'Indigo', 'Blue', 'Green', 'Yellow', 'Orange', 'Red']\n",
      "Insert:['Pink', 'Violet', 'Indigo', 'Blue', 'Green', 'Yellow', 'Orange', 'Red']\n",
      "Remove:['Violet', 'Indigo', 'Blue', 'Green', 'Yellow', 'Orange', 'Red']\n",
      "Original list:['Violet', 'Indigo', 'Blue', 'Green', 'Yellow', 'Orange', 'Red'] \n",
      "Shallow copy:['Purple', 'Indigo', 'Blue', 'Green', 'Yellow', 'Orange', 'Red']\n",
      "Original list:['Violet', 'Indigo', 'Blue', 'Green', 'Yellow', 'Orange', 'Red'] \n",
      "Deep copy:['Black', 'Indigo', 'Blue', 'Green', 'Yellow', 'Orange', 'Red']\n",
      "Count:2\n",
      "Extend:['Violet', 'Indigo', 'Blue', 'Green', 'Yellow', 'Orange', 'Red', 'Red', 'Pink', 'White', 'Grey']\n",
      "Index:2\n",
      "Sort:['Blue', 'Green', 'Grey', 'Indigo', 'Orange', 'Pink', 'Red', 'Red', 'Violet', 'White', 'Yellow']\n",
      "Reverse:['Yellow', 'White', 'Violet', 'Red', 'Red', 'Pink', 'Orange', 'Indigo', 'Grey', 'Green', 'Blue']\n",
      "Pop:['Yellow', 'White', 'Violet', 'Red', 'Red', 'Pink', 'Orange', 'Indigo', 'Grey', 'Green']\n",
      "Clear:[]\n"
     ]
    }
   ],
   "source": [
    "# Lists\n",
    "\n",
    "colour = [\"Violet\",\"Indigo\",\"Blue\",\"Green\",\"Yellow\",\"Orange\"]\n",
    "\n",
    "# Append\n",
    "colour.append(\"Red\")\n",
    "print(f\"Append:{colour}\")\n",
    "\n",
    "# Insert \n",
    "colour.insert(0,\"Pink\")\n",
    "print(f\"Insert:{colour}\")\n",
    "\n",
    "# Remove\n",
    "colour.remove(\"Pink\")\n",
    "print(f\"Remove:{colour}\")\n",
    "\n",
    "# Copy\n",
    "# Shallow copy\n",
    "colour_shallow_copy = colour.copy()\n",
    "colour_shallow_copy[0] = \"Purple\"\n",
    "print(f\"Original list:{colour} \\nShallow copy:{colour_shallow_copy}\")\n",
    "\n",
    "# Deep copy\n",
    "import copy\n",
    "colour_deep_copy = copy.deepcopy(colour)\n",
    "colour_deep_copy[0] = \"Black\"\n",
    "print(f\"Original list:{colour} \\nDeep copy:{colour_deep_copy}\")\n",
    "\n",
    "# Count\n",
    "colour.append(\"Red\")\n",
    "count = colour.count(\"Red\")\n",
    "print(f\"Count:{count}\")\n",
    "\n",
    "# Extend\n",
    "colour2 = [\"Pink\",\"White\",\"Grey\"]\n",
    "colour.extend(colour2)\n",
    "print(f\"Extend:{colour}\")\n",
    "\n",
    "# Index\n",
    "index = colour.index(\"Blue\")\n",
    "print(f\"Index:{index}\")\n",
    "\n",
    "# Sort\n",
    "colour.sort()\n",
    "print(f\"Sort:{colour}\")\n",
    "\n",
    "# Reverse\n",
    "colour.reverse()\n",
    "print(f\"Reverse:{colour}\")\n",
    "\n",
    "# Pop\n",
    "colour.pop()\n",
    "print(f\"Pop:{colour}\")\n",
    "\n",
    "# Clear\n",
    "colour.clear()\n",
    "print(f\"Clear:{colour}\")"
   ]
  },
  {
   "cell_type": "code",
   "execution_count": 253,
   "metadata": {},
   "outputs": [
    {
     "name": "stdout",
     "output_type": "stream",
     "text": [
      "First colour:Violet\n",
      "Second colour:Indigo\n",
      "Last colour:Red\n",
      "Middle colour:Green\n",
      "Modified list:['Violet', 'Indigo', 'Blue', 'Green', 'Yellow', 'Orange', 'Pink']\n"
     ]
    }
   ],
   "source": [
    "# Indexing\n",
    "\n",
    "colour = [\"Violet\",\"Indigo\",\"Blue\",\"Green\",\"Yellow\",\"Orange\",\"Red\"]\n",
    "\n",
    "# Accessing elements using positive index\n",
    "first_colour = colour[0]\n",
    "second_colour = colour[1]\n",
    "last_colour = colour[-1]\n",
    "print(f\"First colour:{first_colour}\")\n",
    "print(f\"Second colour:{second_colour}\")\n",
    "print(f\"Last colour:{last_colour}\")\n",
    "\n",
    "# Get the value of an element at a specific index\n",
    "middle_index = len(colour) // 2\n",
    "middle_colour = colour[middle_index]\n",
    "print(f\"Middle colour:{middle_colour}\")\n",
    "\n",
    "# Change the value of an element at a specific index\n",
    "colour[-1] = \"Pink\"\n",
    "print(f\"Modified list:{colour}\")"
   ]
  },
  {
   "cell_type": "code",
   "execution_count": 254,
   "metadata": {},
   "outputs": [
    {
     "name": "stdout",
     "output_type": "stream",
     "text": [
      "Positive Slicing:['Indigo', 'Blue', 'Green']\n",
      "Positive Slicing with step:['Indigo', 'Green', 'Orange']\n",
      "Negative Slicing:['Yellow', 'Orange', 'Red']\n",
      "Negative Slicing with Reverse:['Orange', 'Yellow', 'Green']\n",
      "Retrieve a portion:['Blue', 'Green', 'Yellow']\n",
      "Update elements within a slice:['Black', 'White', 'Blue', 'Green', 'Yellow', 'Orange', 'Red']\n",
      "Delete a slice:['Blue', 'Green', 'Yellow', 'Orange', 'Red']\n",
      "Insert into a slice:['Violet', 'Indigo', 'Blue', 'Green', 'Yellow', 'Orange', 'Red']\n"
     ]
    }
   ],
   "source": [
    "# Slicing\n",
    "\n",
    "colour = [\"Violet\",\"Indigo\",\"Blue\",\"Green\",\"Yellow\",\"Orange\",\"Red\"]\n",
    "\n",
    "# Slice from index 1 to 4 \n",
    "subset1 = colour[1:4]\n",
    "print(f\"Positive Slicing:{subset1}\")\n",
    "\n",
    "# Slice with a step\n",
    "subset2 = colour[1:7:2]\n",
    "print(f\"Positive Slicing with step:{subset2}\")\n",
    "\n",
    "# Slice the last three elements\n",
    "subset3 = colour[-3:]\n",
    "print(f\"Negative Slicing:{subset3}\")\n",
    "\n",
    "# Slice from the second to last to the fourth to last \n",
    "subset4 = colour[-2:-5:-1]\n",
    "print(f\"Negative Slicing with Reverse:{subset4}\")\n",
    "\n",
    "# Extract a portion of the list\n",
    "subset5 = colour[2:5]\n",
    "print(f\"Retrieve a portion:{subset5}\")\n",
    "\n",
    "# Update elements within a slice\n",
    "colour[0:2] = [\"Black\",\"White\"]\n",
    "print(f\"Update elements within a slice:{colour}\")\n",
    "\n",
    "# Remove elements within a slice\n",
    "del colour[0:2]\n",
    "print(f\"Delete a slice:{colour}\")\n",
    "\n",
    "# Add elements into a specific position\n",
    "colour[0:0] = [\"Violet\",\"Indigo\"]\n",
    "print(f\"Insert into a slice:{colour}\")"
   ]
  },
  {
   "cell_type": "code",
   "execution_count": 255,
   "metadata": {},
   "outputs": [
    {
     "name": "stdout",
     "output_type": "stream",
     "text": [
      "Is Red in the list?True\n",
      "Index of Red:6\n",
      "Position of the element in the list:2\n"
     ]
    }
   ],
   "source": [
    "# Searching and Sorting\n",
    "\n",
    "colour = [\"Violet\",\"Indigo\",\"Blue\",\"Green\",\"Yellow\",\"Orange\",\"Red\"]\n",
    "\n",
    "# Checking if an element exists in the list\n",
    "has_red = \"Red\" in colour\n",
    "print(f\"Is Red in the list?{has_red}\")\n",
    "\n",
    "# Finding the index of an element\n",
    "index = colour.index(\"Red\")\n",
    "print(f\"Index of Red:{index}\")\n",
    "\n",
    "# Iterating through the list to find a specific element\n",
    "colour_to_find = \"Blue\"\n",
    "for i in colour:\n",
    "    if i in colour_to_find:\n",
    "        print(f\"Position of the element in the list:{colour.index(i)}\")"
   ]
  },
  {
   "cell_type": "code",
   "execution_count": 256,
   "metadata": {},
   "outputs": [
    {
     "name": "stdout",
     "output_type": "stream",
     "text": [
      "Sum using reduce:21\n",
      "Max value using reduce:6\n",
      "Squares using map:[1, 4, 9, 16, 25, 36]\n",
      "Uppercased words using map:['APPLE', 'BANANA', 'CHERRY', 'DATE', 'EGGFRUIT', 'FIG']\n",
      "Even numbers using filter:[2, 4, 6]\n",
      "Long words using filter:['banana', 'cherry', 'eggfruit']\n",
      "Zipped list:[(1, 'apple'), (2, 'banana'), (3, 'cherry'), (4, 'date'), (5, 'eggfruit'), (6, 'fig')]\n",
      "Zipped three lists:[(1, 'apple', 'Violet'), (2, 'banana', 'Indigo'), (3, 'cherry', 'Blue'), (4, 'date', 'Green'), (5, 'eggfruit', 'Yellow'), (6, 'fig', 'Orange')]\n"
     ]
    }
   ],
   "source": [
    "from functools import reduce\n",
    "\n",
    "# Sum of a list of numbers using reduce\n",
    "numbers = [1,2,3,4,5,6]\n",
    "sum_result  = reduce(lambda x,y: x+y, numbers)\n",
    "print(f\"Sum using reduce:{sum_result}\")\n",
    "\n",
    "# Finding the maximum value in a list using reduce\n",
    "max_result = reduce(lambda x,y: x if x>y else y, numbers)\n",
    "print(f\"Max value using reduce:{max_result}\")\n",
    "\n",
    "# Convert a list of numbers to their squares using map\n",
    "square_number = map(lambda x: x*x,numbers)\n",
    "print(f\"Squares using map:{list(square_number)}\")\n",
    "\n",
    "# Convert a list of strings to their uppercase forms\n",
    "alpha = ['apple','banana','cherry','date','eggfruit','fig']\n",
    "uppercase_alpha = map(str.upper,alpha)\n",
    "print(f\"Uppercased words using map:{list(uppercase_alpha)}\")\n",
    "\n",
    "# Filter a list to get only even numbers\n",
    "even_numbers = filter(lambda x: x%2==0, numbers)\n",
    "print(f\"Even numbers using filter:{list(even_numbers)}\")\n",
    "\n",
    "# Filter a list to get words with more than 5 letters\n",
    "long_words = filter(lambda x: len(x)>5, alpha)\n",
    "print(f\"Long words using filter:{list(long_words)}\")\n",
    "\n",
    "# Zip two lists to create pairs of elements\n",
    "fruit_quantities = zip(numbers,alpha)\n",
    "print(f\"Zipped list:{list(fruit_quantities)}\")\n",
    "\n",
    "# Zip three lists\n",
    "colour = [\"Violet\",\"Indigo\",\"Blue\",\"Green\",\"Yellow\",\"Orange\",\"Red\"]\n",
    "number_fruit_colour = zip(numbers,alpha,colour)\n",
    "print(f\"Zipped three lists:{list(number_fruit_colour)}\")"
   ]
  },
  {
   "cell_type": "code",
   "execution_count": 257,
   "metadata": {},
   "outputs": [
    {
     "name": "stdout",
     "output_type": "stream",
     "text": [
      "Tuple:('Violet', 'Indigo', 'Blue', 'Green', 'Yellow', 'Orange', 'Red')\n",
      "Length:7\n",
      "Second element:Indigo\n",
      "Slicing:('Blue', 'Green')\n",
      "Modified tuple:('Violet', 'Indigo', 'Blue', 'Green', 'Yellow', 'Orange', 'Red', 'Pink')\n",
      "apple\n",
      "['banana', 'cherry']\n",
      "date\n",
      "apple\n",
      "banana\n",
      "cherry\n",
      "date\n",
      "Joined tuple: (1, 2, 3, 4, 5, 6)\n",
      "('apple', 'banana', 'cherry', 'date', 'apple', 'banana', 'cherry', 'date')\n",
      "Count: 2\n",
      "Index: 0\n",
      "Sum:21\n",
      "Max:6\n",
      "Min:1\n",
      "Soreted tuple:['apple', 'banana', 'cherry', 'date']\n"
     ]
    }
   ],
   "source": [
    "# Tuple\n",
    "\n",
    "tuple1 = (\"Violet\",\"Indigo\",\"Blue\",\"Green\",\"Yellow\",\"Orange\",\"Red\")\n",
    "print(f\"Tuple:{tuple1}\")\n",
    "\n",
    "# Length\n",
    "length = len(tuple1)\n",
    "print(f\"Length:{length}\")\n",
    "\n",
    "# Indexing\n",
    "print(f\"Second element:{tuple1[1]}\")\n",
    "\n",
    "# Slicing\n",
    "print(f\"Slicing:{tuple1[2:4]}\")\n",
    "\n",
    "# Editing a tuple\n",
    "t = list(tuple1)\n",
    "t.append(\"Pink\")\n",
    "tuple1 = tuple(t)\n",
    "print(f\"Modified tuple:{tuple1}\")\n",
    "\n",
    "# Delete Tuple\n",
    "del tuple1\n",
    "\n",
    "# Using Asterisk\n",
    "fruits = (\"apple\",\"banana\",\"cherry\",\"date\")\n",
    "(green,*tropic,red) = fruits\n",
    "print(green)\n",
    "print(tropic)\n",
    "print(red)\n",
    "\n",
    "# Iterating through a tuple\n",
    "for i in fruits:\n",
    "    print(i)\n",
    "\n",
    "# Joining two tuples\n",
    "tuple1 = (1,2,3)\n",
    "tuple2 = (4,5,6)\n",
    "joined_tuple = tuple1 + tuple2\n",
    "print(\"Joined tuple:\",joined_tuple)\n",
    "\n",
    "# Multiplying tuple\n",
    "mytuple = fruits*2\n",
    "print(mytuple)\n",
    "\n",
    "# Count\n",
    "count = mytuple.count('apple')\n",
    "print(\"Count:\",count)\n",
    "\n",
    "# Index\n",
    "index = mytuple.index(\"apple\")\n",
    "print(\"Index:\",index)\n",
    "\n",
    "# Sum\n",
    "sum_numbers = sum(joined_tuple)\n",
    "print(f\"Sum:{sum_numbers}\")\n",
    "\n",
    "# Max\n",
    "max_numbers = max(joined_tuple)\n",
    "print(f\"Max:{max_numbers}\")\n",
    "\n",
    "# Min\n",
    "min_numbers = min(joined_tuple)\n",
    "print(f\"Min:{min_numbers}\")\n",
    "\n",
    "# Sort\n",
    "sorted_tuple = sorted(fruits)\n",
    "print(f\"Soreted tuple:{sorted_tuple}\")"
   ]
  },
  {
   "cell_type": "code",
   "execution_count": 258,
   "metadata": {},
   "outputs": [
    {
     "name": "stdout",
     "output_type": "stream",
     "text": [
      "Adwaid\n",
      "16\n",
      "Calicut\n",
      "{'Name': 'Adwaid', 'Age': 19, 'City': 'Calicut'}\n"
     ]
    }
   ],
   "source": [
    "# Dictionary\n",
    "\n",
    "person = {\"Name\":\"Adwaid\",\"Age\":16,\"City\":\"Calicut\"}\n",
    "\n",
    "# Accessing and modifying values\n",
    "print(person[\"Name\"])\n",
    "print(person[\"Age\"])\n",
    "print(person[\"City\"])\n",
    "\n",
    "person[\"Age\"] = 19\n",
    "print(person)"
   ]
  },
  {
   "cell_type": "code",
   "execution_count": 259,
   "metadata": {},
   "outputs": [
    {
     "name": "stdout",
     "output_type": "stream",
     "text": [
      "{'Hello,': 2, 'World!': 1, 'Python!': 1}\n"
     ]
    }
   ],
   "source": [
    "# Use cases\n",
    "\n",
    "# Counting occurerences\n",
    "sentence = \"Hello, World! Hello, Python!\"\n",
    "word_counts = {}\n",
    "\n",
    "for i in sentence.split():\n",
    "    if i in word_counts:\n",
    "        word_counts[i] += 1\n",
    "    else:\n",
    "        word_counts[i] = 1\n",
    "print(word_counts)"
   ]
  },
  {
   "cell_type": "code",
   "execution_count": 260,
   "metadata": {},
   "outputs": [
    {
     "name": "stdout",
     "output_type": "stream",
     "text": [
      "dict_keys(['Name', 'Age', 'City'])\n",
      "dict_values(['Adwaid', 19, 'Calicut'])\n",
      "dict_items([('Name', 'Adwaid'), ('Age', 19), ('City', 'Calicut')])\n",
      "Name: Adwaid\n",
      "Phone: 0\n",
      "Duplicate dictionary:{'Name': 'Adwaid', 'Age': 19, 'City': 'Calicut'}\n",
      "Removed value:Calicut\n",
      "{}\n",
      "{'Name': 'Adwaid', 'Age': 19, 'City': 'Calicut', 'Email': 'ak44@gmail.com'}\n"
     ]
    }
   ],
   "source": [
    "# Dictionary Methods\n",
    "\n",
    "# Keys()\n",
    "keys = person.keys()\n",
    "print(keys)\n",
    "\n",
    "# Values()\n",
    "value = person.values()\n",
    "print(value)\n",
    "\n",
    "# Items\n",
    "items = person.items()\n",
    "print(items)\n",
    "\n",
    "# get()\n",
    "print(\"Name:\",person.get(\"Name\"))\n",
    "print(\"Phone:\",person.get(\"Phonenumber\",0))\n",
    "\n",
    "# Copy()\n",
    "new_dic = person.copy()\n",
    "print(f\"Duplicate dictionary:{new_dic}\")\n",
    "\n",
    "# Pop()\n",
    "removed_value = person.pop(\"City\")\n",
    "print(f\"Removed value:{removed_value}\")\n",
    "\n",
    "# clear()\n",
    "person.clear()\n",
    "print(person)\n",
    "\n",
    "# Adding Key-Value Pair\n",
    "new_dic['Email'] = \"ak44@gmail.com\"\n",
    "print(new_dic)"
   ]
  },
  {
   "cell_type": "code",
   "execution_count": 261,
   "metadata": {},
   "outputs": [
    {
     "name": "stdout",
     "output_type": "stream",
     "text": [
      "{1: 1, 2: 4, 3: 9, 4: 16, 5: 25}\n"
     ]
    }
   ],
   "source": [
    "# Dictionary Comprehension\n",
    "\n",
    "# Creating a dictionary from a list\n",
    "numbers = [1,2,3,4,5]\n",
    "squares = {num:num**2 for num in numbers}\n",
    "print(squares)"
   ]
  },
  {
   "cell_type": "code",
   "execution_count": 262,
   "metadata": {},
   "outputs": [
    {
     "name": "stdout",
     "output_type": "stream",
     "text": [
      "{1: 'a', 2: 'b', 3: 'c'}\n"
     ]
    }
   ],
   "source": [
    "# creating a dictionary from another dictionary\n",
    "original = {'a':1,'b':2,'c':3}\n",
    "swapped = {value: key for key,value in original.items()}\n",
    "print(swapped)"
   ]
  },
  {
   "cell_type": "code",
   "execution_count": 263,
   "metadata": {},
   "outputs": [
    {
     "name": "stdout",
     "output_type": "stream",
     "text": [
      "{2: 8, 4: 64, 6: 216, 8: 512, 10: 1000}\n"
     ]
    }
   ],
   "source": [
    "# Creating a dictionary with conditional logic\n",
    "numbers = [1,2,3,4,5,6,7,8,9,10]\n",
    "even_cubes = {num : num**3 for num in numbers if num % 2 == 0}\n",
    "print(even_cubes)"
   ]
  },
  {
   "cell_type": "code",
   "execution_count": 264,
   "metadata": {},
   "outputs": [
    {
     "name": "stdout",
     "output_type": "stream",
     "text": [
      "{'a': 1, 'b': 2, 'c': 3, 'd': 4, 'e': 5}\n"
     ]
    }
   ],
   "source": [
    "# Creating a dictionary from two lists\n",
    "keys = ['a','b','c','d','e']\n",
    "values = [1,2,3,4,5]\n",
    "new_dict = {key : value for key,value in zip(keys,values)}\n",
    "print(new_dict)"
   ]
  },
  {
   "cell_type": "code",
   "execution_count": 265,
   "metadata": {},
   "outputs": [
    {
     "name": "stdout",
     "output_type": "stream",
     "text": [
      "Krish123@gmail.com\n"
     ]
    }
   ],
   "source": [
    "# Nesting Dictionaries\n",
    "\n",
    "person1 = {'Name':'Krishna','Age':19,'contact':{'Email':'Krish123@gmail.com','Phone':9765430892}}\n",
    "print(person1['contact']['Email'])"
   ]
  },
  {
   "cell_type": "code",
   "execution_count": 266,
   "metadata": {},
   "outputs": [
    {
     "name": "stdout",
     "output_type": "stream",
     "text": [
      "Set1: {1, 2, 3, 4, 5}\n",
      "Set2: {4, 5, 7, 8, 9}\n"
     ]
    }
   ],
   "source": [
    "# Sets\n",
    "\n",
    "set1 = {1,2,3,4,5}\n",
    "set2 = set([4,5,7,8,9])\n",
    "print(\"Set1:\",set1)\n",
    "print(\"Set2:\",set2)"
   ]
  },
  {
   "cell_type": "code",
   "execution_count": 267,
   "metadata": {},
   "outputs": [
    {
     "name": "stdout",
     "output_type": "stream",
     "text": [
      "Union: {1, 2, 3, 4, 5, 7, 8, 9}\n",
      "Intersection: {4, 5}\n",
      "Difference: {1, 2, 3}\n",
      "Symmetric difference: {1, 2, 3, 7, 8, 9}\n"
     ]
    }
   ],
   "source": [
    "# Set operations\n",
    "\n",
    "# Union\n",
    "union_set = set1 | set2\n",
    "print(\"Union:\",union_set)\n",
    "\n",
    "# Intersection\n",
    "intersection_set = set1 & set2\n",
    "print(\"Intersection:\",intersection_set)\n",
    "\n",
    "# Difference\n",
    "difference_set = set1 - set2\n",
    "print(\"Difference:\",difference_set)\n",
    "\n",
    "# Symmetric Difference\n",
    "symmetric_difference_set = set1 ^ set2\n",
    "print(\"Symmetric difference:\",symmetric_difference_set)"
   ]
  },
  {
   "cell_type": "code",
   "execution_count": 269,
   "metadata": {},
   "outputs": [
    {
     "name": "stdout",
     "output_type": "stream",
     "text": [
      "Add: {1, 2, 4, 5, 6, 7, 8, 9}\n",
      "Remove: {1, 2, 4, 6, 7, 8, 9}\n",
      "Discard: {1, 4, 6, 7, 8, 9}\n",
      "popped element: 1\n",
      "After clear: set()\n",
      "After copy: {4, 5, 7, 8, 9}\n",
      "Updated set: {1, 2, 4, 5, 7, 8, 9}\n",
      "Is subset? True\n"
     ]
    }
   ],
   "source": [
    "# Set Methods\n",
    "\n",
    "# Add(element)\n",
    "set1.add(6)\n",
    "print(\"Add:\",set1)\n",
    "\n",
    "# Remove(element)\n",
    "set1.remove(5)\n",
    "print(\"Remove:\",set1)\n",
    "\n",
    "# Discard(element)\n",
    "set1.discard(2)\n",
    "print(\"Discard:\",set1)\n",
    "\n",
    "# pop()\n",
    "pop = set1.pop()\n",
    "print(\"popped element:\",pop)\n",
    "\n",
    "# clear()\n",
    "set1.clear()\n",
    "print(\"After clear:\",set1)\n",
    "\n",
    "# Copy()\n",
    "set1 = set2.copy()\n",
    "print(\"After copy:\",set1)\n",
    "\n",
    "# Update()\n",
    "set1.update([1,2])\n",
    "print(\"Updated set:\",set1)\n",
    "\n",
    "# issubset()\n",
    "result = set2.issubset(set1)\n",
    "print(\"Is subset?\",result)"
   ]
  }
 ],
 "metadata": {
  "kernelspec": {
   "display_name": "Python 3",
   "language": "python",
   "name": "python3"
  },
  "language_info": {
   "codemirror_mode": {
    "name": "ipython",
    "version": 3
   },
   "file_extension": ".py",
   "mimetype": "text/x-python",
   "name": "python",
   "nbconvert_exporter": "python",
   "pygments_lexer": "ipython3",
   "version": "3.11.4"
  }
 },
 "nbformat": 4,
 "nbformat_minor": 2
}
