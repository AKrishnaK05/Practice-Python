{
 "cells": [
  {
   "cell_type": "code",
   "execution_count": 1,
   "metadata": {},
   "outputs": [],
   "source": [
    "# Inheritance\n",
    "\n",
    "class Parent:\n",
    "    def parent_method(self):\n",
    "        print(\"This is parent method\")\n",
    "\n",
    "class Child(Parent):\n",
    "    def child_method(self):\n",
    "        print(\"This is child method\")"
   ]
  },
  {
   "cell_type": "code",
   "execution_count": 2,
   "metadata": {},
   "outputs": [
    {
     "name": "stdout",
     "output_type": "stream",
     "text": [
      "Generic animal sound.\n",
      "Woof!\n",
      "Meow!\n",
      "Woof!\n"
     ]
    }
   ],
   "source": [
    "# MRO\n",
    "\n",
    "class Animal:\n",
    "    def make_sound(self):\n",
    "        print(\"Generic animal sound.\")\n",
    "\n",
    "class Dog(Animal):\n",
    "    def make_sound(self):\n",
    "        print(\"Woof!\")\n",
    "\n",
    "class Cat(Animal):\n",
    "    def make_sound(self):\n",
    "        print(\"Meow!\")\n",
    "\n",
    "class Poodle(Dog):\n",
    "    pass\n",
    "\n",
    "animals = [Animal(),Dog(),Cat(),Poodle()]\n",
    "for animal in animals:\n",
    "    animal.make_sound()"
   ]
  },
  {
   "cell_type": "code",
   "execution_count": 4,
   "metadata": {},
   "outputs": [
    {
     "name": "stdout",
     "output_type": "stream",
     "text": [
      "This function is in parent class.\n",
      "This function is in child class.\n"
     ]
    }
   ],
   "source": [
    "# Single inheritance\n",
    "\n",
    "class Parent:\n",
    "    def func1(self):\n",
    "        print(\"This function is in parent class.\")\n",
    "\n",
    "class Child(Parent):\n",
    "    def func2(self):\n",
    "        print(\"This function is in child class.\")\n",
    "\n",
    "obj = Child()\n",
    "obj.func1()\n",
    "obj.func2()"
   ]
  },
  {
   "cell_type": "code",
   "execution_count": 21,
   "metadata": {},
   "outputs": [
    {
     "name": "stdout",
     "output_type": "stream",
     "text": [
      "Father: Ratnakumar\n",
      "Mother: Daija\n"
     ]
    }
   ],
   "source": [
    "# Multiple inheritance\n",
    "\n",
    "class Mother:\n",
    "    def mother(self):\n",
    "        print(self.mothername)\n",
    "\n",
    "class Father:\n",
    "    def father(self):\n",
    "        print(self.fathername)\n",
    "\n",
    "class Son(Mother,Father):\n",
    "    def parents(self):\n",
    "        print(\"Father:\",self.fathername)\n",
    "        print(\"Mother:\",self.mothername)\n",
    "\n",
    "s1 = Son()\n",
    "s1.fathername = \"Ratnakumar\"\n",
    "s1.mothername = \"Daija\"\n",
    "s1.parents()"
   ]
  },
  {
   "cell_type": "code",
   "execution_count": 14,
   "metadata": {},
   "outputs": [
    {
     "name": "stdout",
     "output_type": "stream",
     "text": [
      "Grandfather Name: Prem Nath Kohli\n",
      "Father Name: Virat Kohli\n",
      "Son Name: Akaay Kohli\n"
     ]
    }
   ],
   "source": [
    "# Multilevel Inheritance\n",
    "\n",
    "class Grandfather:\n",
    "    def __init__(self,grandfathername):\n",
    "        self.grandfathername = grandfathername\n",
    "\n",
    "class Father(Grandfather):\n",
    "    def __init__(self,fathername,grandfathername):\n",
    "        self.fathername = fathername\n",
    "        Grandfather.__init__(self,grandfathername)\n",
    "\n",
    "class Son(Father):\n",
    "    def __init__(self,sonname,fathername,grandfathername):\n",
    "        self.sonname = sonname\n",
    "        Father.__init__(self,fathername,grandfathername)\n",
    "\n",
    "    def print_name(self):\n",
    "        print(\"Grandfather Name:\",self.grandfathername)\n",
    "        print(\"Father Name:\",self.fathername)\n",
    "        print(\"Son Name:\",self.sonname)\n",
    "\n",
    "s1 = Son(\"Akaay Kohli\",\"Virat Kohli\",\"Prem Nath Kohli\")\n",
    "s1.print_name()"
   ]
  },
  {
   "cell_type": "code",
   "execution_count": 26,
   "metadata": {},
   "outputs": [
    {
     "name": "stdout",
     "output_type": "stream",
     "text": [
      "Adwaid\n",
      "Ratnakumar\n",
      "Krishna\n",
      "Ratnakumar\n"
     ]
    }
   ],
   "source": [
    "# Hierarchial Inheritance\n",
    "\n",
    "class Parent:\n",
    "    def father(self):\n",
    "        print(\"Ratnakumar\")\n",
    "\n",
    "class Son1(Parent):\n",
    "    def son1(self):\n",
    "        print(\"Adwaid\")\n",
    "\n",
    "\n",
    "class Son2(Parent):\n",
    "    def son2(self):\n",
    "        print(\"Krishna\")\n",
    "\n",
    "s1 = Son1()\n",
    "s2 = Son2()\n",
    "s1.son1()\n",
    "s1.father()\n",
    "s2.son2()\n",
    "s2.father()\n",
    "        "
   ]
  },
  {
   "cell_type": "code",
   "execution_count": 30,
   "metadata": {},
   "outputs": [
    {
     "name": "stdout",
     "output_type": "stream",
     "text": [
      "This function is in school\n",
      "This function is in student 2\n"
     ]
    }
   ],
   "source": [
    "# Hybrid Inheritance\n",
    "\n",
    "class School:\n",
    "    def func1(self):\n",
    "        print(\"This function is in school\")\n",
    "\n",
    "class Student1(School):\n",
    "    def func2(self):\n",
    "        print(\"This function is in student 1.\")\n",
    "\n",
    "class Student2(School):\n",
    "    def func3(self):\n",
    "        print(\"This function is in student 2\")\n",
    "\n",
    "class Student3(School):\n",
    "    def func4(self):\n",
    "        print(\"This function is in student 3\")\n",
    "\n",
    "obj = Student2()\n",
    "obj.func1()\n",
    "obj.func3()"
   ]
  },
  {
   "cell_type": "code",
   "execution_count": 31,
   "metadata": {},
   "outputs": [
    {
     "name": "stdout",
     "output_type": "stream",
     "text": [
      "Area of Square:25\n",
      "Area of Circle:19.625\n"
     ]
    }
   ],
   "source": [
    "# Method Overriding\n",
    "\n",
    "class Shape:\n",
    "    def area(self):\n",
    "        raise NotImplementedError(\"Subclasses must implement area()\")\n",
    "    \n",
    "class Square(Shape):\n",
    "    def __init__(self,side):\n",
    "        self.side = side\n",
    "\n",
    "    def area(self):\n",
    "        return self.side * self.side\n",
    "    \n",
    "class Circle(Shape):\n",
    "    def __init__(self,radius):\n",
    "        self.radius = radius\n",
    "\n",
    "    def area(self):\n",
    "        return 3.14 * self.radius * self.radius\n",
    "    \n",
    "square = Square(5)\n",
    "circle = Circle(2.5)\n",
    "\n",
    "print(f\"Area of Square:{square.area()}\")\n",
    "print(f\"Area of Circle:{circle.area()}\")"
   ]
  },
  {
   "cell_type": "code",
   "execution_count": 32,
   "metadata": {},
   "outputs": [
    {
     "name": "stdout",
     "output_type": "stream",
     "text": [
      "The Id is: 104\n",
      "The Name is: Adwaid\n",
      "The Address is: Calicut\n",
      "The Emails is: ak123@gmail.com\n"
     ]
    }
   ],
   "source": [
    "# Super() Method\n",
    "\n",
    "class Emp:\n",
    "    def __init__(self,id,name,Add):\n",
    "        self.id = id\n",
    "        self.name = name\n",
    "        self.Add = Add\n",
    "\n",
    "class Freelance(Emp):\n",
    "    def __init__(self,id,name,Add,Emails):\n",
    "        super().__init__(id,name,Add)\n",
    "        self.Emails = Emails\n",
    "\n",
    "Emp1 = Freelance(104,\"Adwaid\",\"Calicut\",\"ak123@gmail.com\")\n",
    "print(\"The Id is:\",Emp1.id)\n",
    "print('The Name is:', Emp1.name)\n",
    "print('The Address is:', Emp1.Add)\n",
    "print('The Emails is:', Emp1.Emails)"
   ]
  },
  {
   "cell_type": "code",
   "execution_count": 33,
   "metadata": {},
   "outputs": [
    {
     "name": "stdout",
     "output_type": "stream",
     "text": [
      "Error: Cannot divide by zero\n"
     ]
    }
   ],
   "source": [
    "# Exception handling\n",
    "# Try and except block\n",
    "\n",
    "try:\n",
    "    x = 10\n",
    "    y = 0\n",
    "    result = x/y\n",
    "    print(result)\n",
    "except ZeroDivisionError:\n",
    "    print(\"Error: Cannot divide by zero\")"
   ]
  },
  {
   "cell_type": "code",
   "execution_count": null,
   "metadata": {},
   "outputs": [],
   "source": [
    "# Else and finally blocks\n",
    "\n",
    "try:\n",
    "    file = open(\"example.txt\", \"r\")\n",
    "    content = file.read()\n",
    "    print(content)\n",
    "except FileNotFoundError:\n",
    "    print(\"Error: File not found.\")\n",
    "except IOError:\n",
    "    print(\"Error: An I/O error occurred.\")\n",
    "else:\n",
    "    print(\"File read successfully.\")\n",
    "finally:\n",
    "    file.close()\n",
    "    print(\"File closed.\")\n"
   ]
  },
  {
   "cell_type": "code",
   "execution_count": 42,
   "metadata": {},
   "outputs": [
    {
     "name": "stdout",
     "output_type": "stream",
     "text": [
      "NameError occured\n"
     ]
    }
   ],
   "source": [
    "# Name Error\n",
    "\n",
    "try:\n",
    "    print(z)\n",
    "except NameError:\n",
    "    print(\"NameError occured\")"
   ]
  },
  {
   "cell_type": "code",
   "execution_count": 43,
   "metadata": {},
   "outputs": [
    {
     "name": "stdout",
     "output_type": "stream",
     "text": [
      "TypeError occured\n"
     ]
    }
   ],
   "source": [
    "# Type Error\n",
    "\n",
    "try:\n",
    "    a = 5\n",
    "    b = \"Hi\"\n",
    "    print(a+b)\n",
    "except TypeError:\n",
    "    print(\"TypeError occured\")"
   ]
  },
  {
   "cell_type": "code",
   "execution_count": 44,
   "metadata": {},
   "outputs": [
    {
     "name": "stdout",
     "output_type": "stream",
     "text": [
      "ValueError occured\n"
     ]
    }
   ],
   "source": [
    "# Value Error\n",
    "\n",
    "try:\n",
    "    int(\"Hello\")\n",
    "except ValueError:\n",
    "    print(\"ValueError occured\")"
   ]
  },
  {
   "cell_type": "code",
   "execution_count": 45,
   "metadata": {},
   "outputs": [
    {
     "name": "stdout",
     "output_type": "stream",
     "text": [
      "Invalid age provided\n"
     ]
    }
   ],
   "source": [
    "# Custom Exception\n",
    "\n",
    "class InvalidAgeError(Exception):\n",
    "    pass\n",
    "\n",
    "def validate_age(age):\n",
    "    if age < 0:\n",
    "        raise InvalidAgeError(\"Age cannot be negative\")\n",
    "    elif age > 120:\n",
    "        raise InvalidAgeError(\"Age cannot be greater than 120\")\n",
    "    else:\n",
    "        print(\"Valid age\")\n",
    "\n",
    "try:\n",
    "    validate_age(-5)\n",
    "except InvalidAgeError:\n",
    "    print(\"Invalid age provided\")"
   ]
  },
  {
   "cell_type": "code",
   "execution_count": 46,
   "metadata": {},
   "outputs": [
    {
     "name": "stdout",
     "output_type": "stream",
     "text": [
      "Error: division by zero\n",
      "Type: <class 'ZeroDivisionError'>\n",
      "Details: ('division by zero',)\n"
     ]
    }
   ],
   "source": [
    "try:\n",
    "    result = 10 / 0\n",
    "except ZeroDivisionError as e:\n",
    "    print(\"Error:\", e)\n",
    "    print(\"Type:\", type(e))\n",
    "    print(\"Details:\", e.args)"
   ]
  },
  {
   "cell_type": "code",
   "execution_count": 47,
   "metadata": {},
   "outputs": [
    {
     "name": "stdout",
     "output_type": "stream",
     "text": [
      "Error: invalid literal for int() with base 10: 'abc'\n",
      "Type: <class 'ValueError'>\n",
      "Details: (\"invalid literal for int() with base 10: 'abc'\",)\n"
     ]
    }
   ],
   "source": [
    "try:\n",
    "    result = int(\"abc\")\n",
    "except (ValueError,TypeError) as e:\n",
    "    print(\"Error:\",e)\n",
    "    print(\"Type:\",type(e))\n",
    "    print(\"Details:\",e.args)"
   ]
  },
  {
   "cell_type": "code",
   "execution_count": 49,
   "metadata": {},
   "outputs": [
    {
     "name": "stdout",
     "output_type": "stream",
     "text": [
      "Error: Cannot divide by zero\n"
     ]
    }
   ],
   "source": [
    "# Raising Exception\n",
    "# Buitin exception\n",
    "\n",
    "def divide_numbers(x,y):\n",
    "    if y == 0:\n",
    "        raise ValueError(\"Cannot divide by zero\")\n",
    "    return x/y\n",
    "try:\n",
    "    result = divide_numbers(5,0)\n",
    "except ValueError as e:\n",
    "    print(\"Error:\",e)"
   ]
  },
  {
   "cell_type": "code",
   "execution_count": 50,
   "metadata": {},
   "outputs": [
    {
     "name": "stdout",
     "output_type": "stream",
     "text": [
      "Error: Value cannot be negative\n"
     ]
    }
   ],
   "source": [
    "# Custom Exception\n",
    "class CustomError(Exception):\n",
    "    pass\n",
    "\n",
    "def check_value(x):\n",
    "    if x < 0:\n",
    "        raise CustomError(\"Value cannot be negative\")\n",
    "    \n",
    "try:\n",
    "    check_value(-5)\n",
    "except CustomError as e:\n",
    "    print(\"Error:\",e)"
   ]
  },
  {
   "cell_type": "code",
   "execution_count": 51,
   "metadata": {},
   "outputs": [
    {
     "name": "stdout",
     "output_type": "stream",
     "text": [
      "Error: division by zero\n"
     ]
    }
   ],
   "source": [
    "# Local Level\n",
    "\n",
    "def divide(x,y):\n",
    "    try:\n",
    "        result = x/y\n",
    "        print(\"Result:\",result)\n",
    "    except ZeroDivisionError as e:\n",
    "        print(\"Error:\",e)\n",
    "\n",
    "divide(10,0)"
   ]
  },
  {
   "cell_type": "code",
   "execution_count": 53,
   "metadata": {},
   "outputs": [
    {
     "name": "stdout",
     "output_type": "stream",
     "text": [
      "Error: Invalid data\n"
     ]
    }
   ],
   "source": [
    "# Intermediate Level\n",
    "\n",
    "def process_data(data):\n",
    "    try:\n",
    "        result = 10/data\n",
    "    except ZeroDivisionError:\n",
    "        raise ValueError(\"Invalid data\") from None\n",
    "    \n",
    "try:\n",
    "    process_data(0)\n",
    "except ValueError as e:\n",
    "    print(\"Error:\",e)"
   ]
  },
  {
   "cell_type": "code",
   "execution_count": 54,
   "metadata": {},
   "outputs": [
    {
     "name": "stdout",
     "output_type": "stream",
     "text": [
      "An error occurred: Cannot divide by zero\n"
     ]
    }
   ],
   "source": [
    "# Global Level\n",
    "\n",
    "def main():\n",
    "    try:\n",
    "        result = 10 / 0\n",
    "    except ZeroDivisionError :\n",
    "        print(\"An error occurred: Cannot divide by zero\")\n",
    "\n",
    "if __name__ == \"__main__\":\n",
    "    main()"
   ]
  }
 ],
 "metadata": {
  "kernelspec": {
   "display_name": "Python 3",
   "language": "python",
   "name": "python3"
  },
  "language_info": {
   "codemirror_mode": {
    "name": "ipython",
    "version": 3
   },
   "file_extension": ".py",
   "mimetype": "text/x-python",
   "name": "python",
   "nbconvert_exporter": "python",
   "pygments_lexer": "ipython3",
   "version": "3.11.4"
  }
 },
 "nbformat": 4,
 "nbformat_minor": 2
}
