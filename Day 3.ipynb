{
 "cells": [
  {
   "cell_type": "code",
   "execution_count": 1,
   "metadata": {},
   "outputs": [],
   "source": [
    "# Inheritance\n",
    "\n",
    "class Parent:\n",
    "    def parent_method(self):\n",
    "        print(\"This is parent method\")\n",
    "\n",
    "class Child(Parent):\n",
    "    def child_method(self):\n",
    "        print(\"This is child method\")"
   ]
  },
  {
   "cell_type": "code",
   "execution_count": 2,
   "metadata": {},
   "outputs": [
    {
     "name": "stdout",
     "output_type": "stream",
     "text": [
      "Generic animal sound.\n",
      "Woof!\n",
      "Meow!\n",
      "Woof!\n"
     ]
    }
   ],
   "source": [
    "# MRO\n",
    "\n",
    "class Animal:\n",
    "    def make_sound(self):\n",
    "        print(\"Generic animal sound.\")\n",
    "\n",
    "class Dog(Animal):\n",
    "    def make_sound(self):\n",
    "        print(\"Woof!\")\n",
    "\n",
    "class Cat(Animal):\n",
    "    def make_sound(self):\n",
    "        print(\"Meow!\")\n",
    "\n",
    "class Poodle(Dog):\n",
    "    pass\n",
    "\n",
    "animals = [Animal(),Dog(),Cat(),Poodle()]\n",
    "for animal in animals:\n",
    "    animal.make_sound()"
   ]
  },
  {
   "cell_type": "code",
   "execution_count": 4,
   "metadata": {},
   "outputs": [
    {
     "name": "stdout",
     "output_type": "stream",
     "text": [
      "This function is in parent class.\n",
      "This function is in child class.\n"
     ]
    }
   ],
   "source": [
    "# Single inheritance\n",
    "\n",
    "class Parent:\n",
    "    def func1(self):\n",
    "        print(\"This function is in parent class.\")\n",
    "\n",
    "class Child(Parent):\n",
    "    def func2(self):\n",
    "        print(\"This function is in child class.\")\n",
    "\n",
    "obj = Child()\n",
    "obj.func1()\n",
    "obj.func2()"
   ]
  },
  {
   "cell_type": "code",
   "execution_count": 21,
   "metadata": {},
   "outputs": [
    {
     "name": "stdout",
     "output_type": "stream",
     "text": [
      "Father: Ratnakumar\n",
      "Mother: Daija\n"
     ]
    }
   ],
   "source": [
    "# Multiple inheritance\n",
    "\n",
    "class Mother:\n",
    "    def mother(self):\n",
    "        print(self.mothername)\n",
    "\n",
    "class Father:\n",
    "    def father(self):\n",
    "        print(self.fathername)\n",
    "\n",
    "class Son(Mother,Father):\n",
    "    def parents(self):\n",
    "        print(\"Father:\",self.fathername)\n",
    "        print(\"Mother:\",self.mothername)\n",
    "\n",
    "s1 = Son()\n",
    "s1.fathername = \"Ratnakumar\"\n",
    "s1.mothername = \"Daija\"\n",
    "s1.parents()"
   ]
  },
  {
   "cell_type": "code",
   "execution_count": 14,
   "metadata": {},
   "outputs": [
    {
     "name": "stdout",
     "output_type": "stream",
     "text": [
      "Grandfather Name: Prem Nath Kohli\n",
      "Father Name: Virat Kohli\n",
      "Son Name: Akaay Kohli\n"
     ]
    }
   ],
   "source": [
    "# Multilevel Inheritance\n",
    "\n",
    "class Grandfather:\n",
    "    def __init__(self,grandfathername):\n",
    "        self.grandfathername = grandfathername\n",
    "\n",
    "class Father(Grandfather):\n",
    "    def __init__(self,fathername,grandfathername):\n",
    "        self.fathername = fathername\n",
    "        Grandfather.__init__(self,grandfathername)\n",
    "\n",
    "class Son(Father):\n",
    "    def __init__(self,sonname,fathername,grandfathername):\n",
    "        self.sonname = sonname\n",
    "        Father.__init__(self,fathername,grandfathername)\n",
    "\n",
    "    def print_name(self):\n",
    "        print(\"Grandfather Name:\",self.grandfathername)\n",
    "        print(\"Father Name:\",self.fathername)\n",
    "        print(\"Son Name:\",self.sonname)\n",
    "\n",
    "s1 = Son(\"Akaay Kohli\",\"Virat Kohli\",\"Prem Nath Kohli\")\n",
    "s1.print_name()"
   ]
  },
  {
   "cell_type": "code",
   "execution_count": 26,
   "metadata": {},
   "outputs": [
    {
     "name": "stdout",
     "output_type": "stream",
     "text": [
      "Adwaid\n",
      "Ratnakumar\n",
      "Krishna\n",
      "Ratnakumar\n"
     ]
    }
   ],
   "source": [
    "# Hierarchial Inheritance\n",
    "\n",
    "class Parent:\n",
    "    def father(self):\n",
    "        print(\"Ratnakumar\")\n",
    "\n",
    "class Son1(Parent):\n",
    "    def son1(self):\n",
    "        print(\"Adwaid\")\n",
    "\n",
    "\n",
    "class Son2(Parent):\n",
    "    def son2(self):\n",
    "        print(\"Krishna\")\n",
    "\n",
    "s1 = Son1()\n",
    "s2 = Son2()\n",
    "s1.son1()\n",
    "s1.father()\n",
    "s2.son2()\n",
    "s2.father()\n",
    "        "
   ]
  },
  {
   "cell_type": "code",
   "execution_count": 30,
   "metadata": {},
   "outputs": [
    {
     "name": "stdout",
     "output_type": "stream",
     "text": [
      "This function is in school\n",
      "This function is in student 2\n"
     ]
    }
   ],
   "source": [
    "# Hybrid Inheritance\n",
    "\n",
    "class School:\n",
    "    def func1(self):\n",
    "        print(\"This function is in school\")\n",
    "\n",
    "class Student1(School):\n",
    "    def func2(self):\n",
    "        print(\"This function is in student 1.\")\n",
    "\n",
    "class Student2(School):\n",
    "    def func3(self):\n",
    "        print(\"This function is in student 2\")\n",
    "\n",
    "class Student3(School):\n",
    "    def func4(self):\n",
    "        print(\"This function is in student 3\")\n",
    "\n",
    "obj = Student2()\n",
    "obj.func1()\n",
    "obj.func3()"
   ]
  },
  {
   "cell_type": "code",
   "execution_count": 31,
   "metadata": {},
   "outputs": [
    {
     "name": "stdout",
     "output_type": "stream",
     "text": [
      "Area of Square:25\n",
      "Area of Circle:19.625\n"
     ]
    }
   ],
   "source": [
    "# Method Overriding\n",
    "\n",
    "class Shape:\n",
    "    def area(self):\n",
    "        raise NotImplementedError(\"Subclasses must implement area()\")\n",
    "    \n",
    "class Square(Shape):\n",
    "    def __init__(self,side):\n",
    "        self.side = side\n",
    "\n",
    "    def area(self):\n",
    "        return self.side * self.side\n",
    "    \n",
    "class Circle(Shape):\n",
    "    def __init__(self,radius):\n",
    "        self.radius = radius\n",
    "\n",
    "    def area(self):\n",
    "        return 3.14 * self.radius * self.radius\n",
    "    \n",
    "square = Square(5)\n",
    "circle = Circle(2.5)\n",
    "\n",
    "print(f\"Area of Square:{square.area()}\")\n",
    "print(f\"Area of Circle:{circle.area()}\")"
   ]
  },
  {
   "cell_type": "code",
   "execution_count": 32,
   "metadata": {},
   "outputs": [
    {
     "name": "stdout",
     "output_type": "stream",
     "text": [
      "The Id is: 104\n",
      "The Name is: Adwaid\n",
      "The Address is: Calicut\n",
      "The Emails is: ak123@gmail.com\n"
     ]
    }
   ],
   "source": [
    "# Super() Method\n",
    "\n",
    "class Emp:\n",
    "    def __init__(self,id,name,Add):\n",
    "        self.id = id\n",
    "        self.name = name\n",
    "        self.Add = Add\n",
    "\n",
    "class Freelance(Emp):\n",
    "    def __init__(self,id,name,Add,Emails):\n",
    "        super().__init__(id,name,Add)\n",
    "        self.Emails = Emails\n",
    "\n",
    "Emp1 = Freelance(104,\"Adwaid\",\"Calicut\",\"ak123@gmail.com\")\n",
    "print(\"The Id is:\",Emp1.id)\n",
    "print('The Name is:', Emp1.name)\n",
    "print('The Address is:', Emp1.Add)\n",
    "print('The Emails is:', Emp1.Emails)"
   ]
  }
 ],
 "metadata": {
  "kernelspec": {
   "display_name": "Python 3",
   "language": "python",
   "name": "python3"
  },
  "language_info": {
   "codemirror_mode": {
    "name": "ipython",
    "version": 3
   },
   "file_extension": ".py",
   "mimetype": "text/x-python",
   "name": "python",
   "nbconvert_exporter": "python",
   "pygments_lexer": "ipython3",
   "version": "3.11.4"
  }
 },
 "nbformat": 4,
 "nbformat_minor": 2
}
