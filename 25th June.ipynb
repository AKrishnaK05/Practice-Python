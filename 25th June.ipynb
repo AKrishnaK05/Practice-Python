{
 "cells": [
  {
   "cell_type": "code",
   "execution_count": 1,
   "metadata": {},
   "outputs": [
    {
     "name": "stdout",
     "output_type": "stream",
     "text": [
      "<module 'numpy.version' from 'c:\\\\Users\\\\adwai\\\\anaconda3\\\\Lib\\\\site-packages\\\\numpy\\\\version.py'>\n"
     ]
    }
   ],
   "source": [
    "import numpy as np\n",
    "print(np.version)"
   ]
  },
  {
   "cell_type": "code",
   "execution_count": 7,
   "metadata": {},
   "outputs": [
    {
     "name": "stdout",
     "output_type": "stream",
     "text": [
      "(6,)\n",
      "(2, 3)\n",
      "(2, 2, 2)\n"
     ]
    }
   ],
   "source": [
    "# Numpy Arrays\n",
    "\n",
    "# Shape\n",
    "# 1D Array\n",
    "a = np.array([1,2,3,4,5,6])\n",
    "print(a.shape)\n",
    "\n",
    "# 2D Array\n",
    "a = np.array([[1,2,3],[4,5,6]])\n",
    "print(a.shape)\n",
    "\n",
    "# 3D Array\n",
    "a = np.array([[[1,2],[3,4]],[[5,6],[7,8]]])\n",
    "print(a.shape)"
   ]
  },
  {
   "cell_type": "code",
   "execution_count": 8,
   "metadata": {},
   "outputs": [
    {
     "name": "stdout",
     "output_type": "stream",
     "text": [
      "5\n"
     ]
    }
   ],
   "source": [
    "# Size\n",
    "a = np.array([1,2,3,4,5])\n",
    "print(a.size)"
   ]
  },
  {
   "cell_type": "code",
   "execution_count": 12,
   "metadata": {},
   "outputs": [
    {
     "name": "stdout",
     "output_type": "stream",
     "text": [
      "int32\n",
      "float64\n",
      "complex128\n",
      "bool\n"
     ]
    }
   ],
   "source": [
    "# Data type\n",
    "# Integer Array\n",
    "a = np.array([1,2,3,4,5])\n",
    "print(a.dtype)\n",
    "\n",
    "# Float Array\n",
    "b = np.array([1.3,2.6,4.7,6.9])\n",
    "print(b.dtype)\n",
    "\n",
    "# Complex Array\n",
    "c = np.array([2+4j,4+7j])\n",
    "print(c.dtype)\n",
    "\n",
    "# Boolean Array\n",
    "d = np.array([True,False])\n",
    "print(d.dtype)"
   ]
  },
  {
   "cell_type": "code",
   "execution_count": 15,
   "metadata": {},
   "outputs": [
    {
     "name": "stdout",
     "output_type": "stream",
     "text": [
      "[1. 2. 3.]\n",
      "float32\n",
      "[4 5 6]\n",
      "int16\n"
     ]
    }
   ],
   "source": [
    "# Creating an array with specific data type\n",
    "a = np.array([1,2,3], dtype = np.float32)\n",
    "print(a)\n",
    "print(a.dtype)\n",
    "\n",
    "b = np.array([4,5,6], dtype=np.int16)\n",
    "print(b)\n",
    "print(b.dtype)"
   ]
  },
  {
   "cell_type": "code",
   "execution_count": 37,
   "metadata": {},
   "outputs": [
    {
     "name": "stdout",
     "output_type": "stream",
     "text": [
      "[1 2 3]\n",
      "[4 5 6]\n",
      "[1 2 3 4 5 6]\n",
      "[12 13 14]\n",
      "[1. 1. 1. 1. 1. 1.]\n",
      "[[1. 1. 1.]\n",
      " [1. 1. 1.]\n",
      " [1. 1. 1.]]\n",
      "[0. 0. 0. 0. 0.]\n",
      "[[0. 0. 0.]\n",
      " [0. 0. 0.]]\n",
      "[0. 0. 0. 0. 0.]\n",
      "[[0. 0. 0.]\n",
      " [0. 0. 0.]]\n",
      "[ 0  1  2  3  4  5  6  7  8  9 10]\n",
      "[ 2  4  6  8 10]\n",
      "[0.   0.25 0.5  0.75 1.  ]\n",
      "[[1. 0. 0.]\n",
      " [0. 1. 0.]\n",
      " [0. 0. 1.]]\n"
     ]
    }
   ],
   "source": [
    "# Some common functions\n",
    "\n",
    "# np.array()\n",
    "a = np.array([1,2,3])\n",
    "print(a)\n",
    "\n",
    "b = np.array((4,5,6))\n",
    "print(b)\n",
    "\n",
    "# np.asarray()\n",
    "c = [1,2,3,4,5,6]\n",
    "a = np.asarray(c)\n",
    "print(a)\n",
    "\n",
    "d = (12,13,14)\n",
    "b = np.asarray(d)\n",
    "print(b)\n",
    "\n",
    "# np.ones()\n",
    "a = np.ones(6)\n",
    "print(a)\n",
    "\n",
    "b = np.ones((3,3))\n",
    "print(b)\n",
    "\n",
    "# np.zeros()\n",
    "a = np.zeros(5)\n",
    "print(a)\n",
    "\n",
    "b = np.zeros((2,3))\n",
    "print(b)\n",
    "\n",
    "# np.empty()\n",
    "a = np.empty(5)\n",
    "print(a)\n",
    "\n",
    "b = np.empty((2,3))\n",
    "print(b)\n",
    "\n",
    "# np.arange()\n",
    "a = np.arange(11)\n",
    "print(a)\n",
    "\n",
    "b = np.arange(2,11,2)\n",
    "print(b)\n",
    "\n",
    "# np.linspace()\n",
    "a = np.linspace(0,1,5)\n",
    "print(a)\n",
    "\n",
    "# np.eye()\n",
    "a = np.eye(3)\n",
    "print(a)\n"
   ]
  },
  {
   "cell_type": "code",
   "execution_count": 45,
   "metadata": {},
   "outputs": [
    {
     "name": "stdout",
     "output_type": "stream",
     "text": [
      "[4 6 8]\n",
      "[5 3 1]\n",
      "[ 6 12 18]\n",
      "[1. 2. 3.]\n",
      "[ 8 12 16]\n",
      "[2. 3. 4.]\n",
      "[2. 3. 4.]\n",
      "[ 2.71828183  7.3890561  20.08553692]\n"
     ]
    }
   ],
   "source": [
    "# Numpy Array Operations and Broadcasting\n",
    "# Basic array operations\n",
    "\n",
    "# Addition\n",
    "a = np.array([1,2,3])\n",
    "b = np.array([3,4,5])\n",
    "c = a+b\n",
    "print(c)\n",
    "\n",
    "# Subtraction\n",
    "a = np.array([6,5,4])\n",
    "b = np.array([1,2,3])\n",
    "c = a-b\n",
    "print(c)\n",
    "\n",
    "# Multiplication\n",
    "a = np.array([3,6,9])\n",
    "b = np.array([2,2,2])\n",
    "c = a*b\n",
    "print(c)\n",
    "\n",
    "# Division\n",
    "a = np.array([3,6,9])\n",
    "b = np.array([3,3,3])\n",
    "c = a/b\n",
    "print(c)\n",
    "\n",
    "# Scalar Operations\n",
    "a = np.array([4,6,8])\n",
    "b = a*2\n",
    "print(b)\n",
    "c = a/2\n",
    "print(c)\n",
    "\n",
    "# Square root\n",
    "a = np.array([4,9,16])\n",
    "b = np.sqrt(a)\n",
    "print(b)\n",
    "\n",
    "# Exponential\n",
    "a = np.array([1,2,3])\n",
    "b = np.exp(a)\n",
    "print(b)"
   ]
  },
  {
   "cell_type": "code",
   "execution_count": 47,
   "metadata": {},
   "outputs": [
    {
     "name": "stdout",
     "output_type": "stream",
     "text": [
      "[3 4 5]\n",
      "[[11 22 33]\n",
      " [14 25 36]]\n"
     ]
    }
   ],
   "source": [
    "# Broadcasting\n",
    "\n",
    "# 1D Array and Scalar\n",
    "a = np.array([1,2,3])\n",
    "b = 2\n",
    "c = a+b\n",
    "print(c)\n",
    "\n",
    "# 2D Array and 1D Array\n",
    "a = np.array([[1,2,3],[4,5,6]])\n",
    "b = np.array([10,20,30])\n",
    "c = a+b\n",
    "print(c)"
   ]
  }
 ],
 "metadata": {
  "kernelspec": {
   "display_name": "base",
   "language": "python",
   "name": "python3"
  },
  "language_info": {
   "codemirror_mode": {
    "name": "ipython",
    "version": 3
   },
   "file_extension": ".py",
   "mimetype": "text/x-python",
   "name": "python",
   "nbconvert_exporter": "python",
   "pygments_lexer": "ipython3",
   "version": "3.11.4"
  }
 },
 "nbformat": 4,
 "nbformat_minor": 2
}
