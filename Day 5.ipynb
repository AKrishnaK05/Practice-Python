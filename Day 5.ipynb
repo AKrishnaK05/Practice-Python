{
 "cells": [
  {
   "cell_type": "code",
   "execution_count": 14,
   "metadata": {},
   "outputs": [],
   "source": [
    "# Python Tkinter\n",
    "\n",
    "# mainloop()\n",
    "import tkinter\n",
    "m = tkinter.Tk()\n",
    "\n",
    "m.mainloop()"
   ]
  },
  {
   "cell_type": "code",
   "execution_count": null,
   "metadata": {},
   "outputs": [],
   "source": [
    "# Label\n",
    "\n",
    "from tkinter import *\n",
    "root = Tk()\n",
    "root.title('Label')\n",
    "w = Label(root, text = \"Adwaid Krishna K\")\n",
    "w.pack()\n",
    "root.mainloop()"
   ]
  },
  {
   "cell_type": "code",
   "execution_count": 3,
   "metadata": {},
   "outputs": [],
   "source": [
    "# Button\n",
    "\n",
    "from tkinter import *\n",
    "root = Tk()\n",
    "root.title('Counting Seconds')\n",
    "button = Button(root, text=\"Stop\",width=25,command=root.destroy)\n",
    "button.pack()\n",
    "root.mainloop()"
   ]
  },
  {
   "cell_type": "code",
   "execution_count": 11,
   "metadata": {},
   "outputs": [],
   "source": [
    "# Entry\n",
    "\n",
    "from tkinter import *\n",
    "master = Tk()\n",
    "master.title('Entry')\n",
    "Label(master,text=\"First Name\").grid(row=0)\n",
    "Label(master,text=\"Last Name\").grid(row=1)\n",
    "e1 = Entry(master).grid(row=0,column=1)\n",
    "e2 = Entry(master).grid(row=1,column=1)\n",
    "master.mainloop()"
   ]
  },
  {
   "cell_type": "code",
   "execution_count": 3,
   "metadata": {},
   "outputs": [],
   "source": [
    "# CheckButton\n",
    "\n",
    "from tkinter import *\n",
    "master = Tk()\n",
    "master.title('Check button')\n",
    "var1 = IntVar()\n",
    "Checkbutton(master,text=\"Male\",variable=var1).grid(row=0,sticky=W)\n",
    "var2 = IntVar()\n",
    "Checkbutton(master,text=\"Female\",variable=var2).grid(row=1,sticky=W)\n",
    "mainloop()"
   ]
  },
  {
   "cell_type": "code",
   "execution_count": 2,
   "metadata": {},
   "outputs": [],
   "source": [
    "# RadioButton\n",
    "\n",
    "from tkinter import *\n",
    "root = Tk()\n",
    "root.title('Radio Button')\n",
    "v = IntVar()\n",
    "Radiobutton(root,text=\"Male\",variable=v,value=1).pack(anchor=W)\n",
    "Radiobutton(root,text=\"Female\",variable=v,value=2).pack(anchor=W)\n",
    "mainloop()"
   ]
  },
  {
   "cell_type": "code",
   "execution_count": 5,
   "metadata": {},
   "outputs": [],
   "source": [
    "# ListBox\n",
    "\n",
    "root = Tk()\n",
    "root.title('Listbox')\n",
    "lb = Listbox(root)\n",
    "lb.insert(1,\"Python\")\n",
    "lb.insert(2,\"Java\")\n",
    "lb.insert(3,\"C++\")\n",
    "lb.insert(4,\"Any other\")\n",
    "lb.pack(anchor=W)\n",
    "root.mainloop()"
   ]
  },
  {
   "cell_type": "code",
   "execution_count": 6,
   "metadata": {},
   "outputs": [],
   "source": [
    "# Scrollbar\n",
    "\n",
    "from tkinter import *\n",
    "root = Tk()\n",
    "scrollbar = Scrollbar(root)\n",
    "scrollbar.pack(side=RIGHT,fill=Y)\n",
    "mylist = Listbox(root, yscrollcommand=scrollbar.set)\n",
    "for line in range(100):\n",
    "    mylist.insert(END, 'This is line number' + str(line))\n",
    "mylist.pack(side=LEFT, fill=BOTH)\n",
    "scrollbar.config(command=mylist.yview)\n",
    "mainloop()"
   ]
  },
  {
   "cell_type": "code",
   "execution_count": null,
   "metadata": {},
   "outputs": [],
   "source": [
    "# Menu\n",
    "\n",
    "root = Tk()\n",
    "menu = Menu(root)\n",
    "root.config(menu=menu)\n",
    "filemenu = Menu(menu)\n",
    "menu.add_cascade(label=\"File\", menu=filemenu)\n",
    "filemenu.add_command(label='New')\n",
    "filemenu.add_command(label='Open...')\n",
    "filemenu.add_separator()\n",
    "filemenu.add_command(label='Exit',command=root.quit)\n",
    "helpmenu = Menu(menu)\n",
    "menu.add_cascade(label=\"Help\", menu=helpmenu)\n",
    "helpmenu.add_command(label=\"About\")\n",
    "mainloop()"
   ]
  }
 ],
 "metadata": {
  "kernelspec": {
   "display_name": "Python 3",
   "language": "python",
   "name": "python3"
  },
  "language_info": {
   "codemirror_mode": {
    "name": "ipython",
    "version": 3
   },
   "file_extension": ".py",
   "mimetype": "text/x-python",
   "name": "python",
   "nbconvert_exporter": "python",
   "pygments_lexer": "ipython3",
   "version": "3.11.4"
  }
 },
 "nbformat": 4,
 "nbformat_minor": 2
}
