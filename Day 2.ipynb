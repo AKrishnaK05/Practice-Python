{
 "cells": [
  {
   "cell_type": "code",
   "execution_count": 1,
   "metadata": {},
   "outputs": [],
   "source": [
    "# Class and Object\n",
    "\n",
    "class Myclass:\n",
    "    pass\n",
    "\n",
    "obj = Myclass()"
   ]
  },
  {
   "cell_type": "code",
   "execution_count": 3,
   "metadata": {},
   "outputs": [
    {
     "name": "stdout",
     "output_type": "stream",
     "text": [
      "1\n",
      "2\n"
     ]
    }
   ],
   "source": [
    "# Instance Variables\n",
    "\n",
    "class Myclass:\n",
    "    \n",
    "    def increment(self):\n",
    "        if not hasattr(self,'instance_var'):\n",
    "            self.instance_var = 0\n",
    "        self.instance_var += 1\n",
    "        return self.instance_var\n",
    "    \n",
    "obj = Myclass()\n",
    "print(obj.increment())\n",
    "print(obj.increment())"
   ]
  },
  {
   "cell_type": "code",
   "execution_count": 4,
   "metadata": {},
   "outputs": [
    {
     "name": "stdout",
     "output_type": "stream",
     "text": [
      "0\n",
      "1\n",
      "2\n"
     ]
    }
   ],
   "source": [
    "# Class Variables\n",
    "\n",
    "class Myclass:\n",
    "    class_var = 0\n",
    "\n",
    "    def increment(self):\n",
    "        Myclass.class_var += 1\n",
    "\n",
    "obj1 = Myclass()\n",
    "obj2 = Myclass()\n",
    "\n",
    "print(Myclass.class_var)\n",
    "obj1.increment()\n",
    "print(Myclass.class_var)\n",
    "obj2.increment()\n",
    "print(Myclass.class_var)"
   ]
  },
  {
   "cell_type": "code",
   "execution_count": 5,
   "metadata": {},
   "outputs": [
    {
     "name": "stdout",
     "output_type": "stream",
     "text": [
      "This is a normal method.\n"
     ]
    }
   ],
   "source": [
    "# Normal Methods\n",
    "\n",
    "class Myclass:\n",
    "    def my_method(self):\n",
    "        print(\"This is a normal method.\")\n",
    "\n",
    "obj = Myclass()\n",
    "obj.my_method()"
   ]
  },
  {
   "cell_type": "code",
   "execution_count": 6,
   "metadata": {},
   "outputs": [
    {
     "name": "stdout",
     "output_type": "stream",
     "text": [
      "0\n",
      "1\n",
      "2\n"
     ]
    }
   ],
   "source": [
    "# Class Methods\n",
    "\n",
    "class Myclass:\n",
    "    class_var = 0\n",
    "\n",
    "    def increment(self):\n",
    "        Myclass.class_var += 1\n",
    "\n",
    "obj1 = Myclass()\n",
    "obj2 = Myclass()\n",
    "\n",
    "print(Myclass.class_var)\n",
    "obj1.increment()\n",
    "print(Myclass.class_var)\n",
    "obj2.increment()\n",
    "print(Myclass.class_var)"
   ]
  },
  {
   "cell_type": "code",
   "execution_count": 7,
   "metadata": {},
   "outputs": [
    {
     "name": "stdout",
     "output_type": "stream",
     "text": [
      "True\n",
      "True\n"
     ]
    }
   ],
   "source": [
    "# Static Methods\n",
    "\n",
    "class Mathutils:\n",
    "    @staticmethod\n",
    "    def is_even(num):\n",
    "        return num % 2 == 0\n",
    "    \n",
    "    @staticmethod\n",
    "    def is_prime(num):\n",
    "        if num < 2:\n",
    "            return False\n",
    "        for i in range(2,int(num ** 0.5)+1):\n",
    "            if num%i==0:\n",
    "                return False\n",
    "        return True\n",
    "    \n",
    "print(Mathutils.is_even(4))\n",
    "print(Mathutils.is_prime(7))"
   ]
  },
  {
   "cell_type": "code",
   "execution_count": 11,
   "metadata": {},
   "outputs": [
    {
     "name": "stdout",
     "output_type": "stream",
     "text": [
      "Adwaid\n",
      "19\n"
     ]
    }
   ],
   "source": [
    "# __init__ method\n",
    "\n",
    "class Person:\n",
    "    def __init__(self,name,age):\n",
    "        self.name = name\n",
    "        self.age = age\n",
    "\n",
    "person1 = Person(\"Adwaid\",19)\n",
    "print(person1.name)\n",
    "print(person1.age)"
   ]
  },
  {
   "cell_type": "code",
   "execution_count": 9,
   "metadata": {},
   "outputs": [
    {
     "name": "stdout",
     "output_type": "stream",
     "text": [
      "Adwaid (19)\n",
      "Adwaid (19)\n"
     ]
    }
   ],
   "source": [
    "# __str__ method\n",
    "\n",
    "class Person:\n",
    "    def __init__(self,name,age):\n",
    "        self.name = name\n",
    "        self.age = age\n",
    "\n",
    "    def __str__(self):\n",
    "        return f\"{self.name} ({self.age})\"\n",
    "    \n",
    "person1 = Person(\"Adwaid\",19)\n",
    "print(person1)\n",
    "print(str(person1))"
   ]
  },
  {
   "cell_type": "code",
   "execution_count": 12,
   "metadata": {},
   "outputs": [
    {
     "name": "stdout",
     "output_type": "stream",
     "text": [
      "Creating a new instance of Person\n",
      "Adwaid (19)\n"
     ]
    }
   ],
   "source": [
    "# __new__ method\n",
    "\n",
    "class Person:\n",
    "    def __new__(cls,*args,**kwargs):\n",
    "        print(\"Creating a new instance of Person\")\n",
    "        return super(Person,cls).__new__(cls)\n",
    "    \n",
    "    def __init__(self,name,age):\n",
    "        self.name = name\n",
    "        self.age = age\n",
    "\n",
    "    def __str__(self):\n",
    "        return f\"{self.name} ({self.age})\"\n",
    "\n",
    "person1 = Person(\"Adwaid\",19)\n",
    "print(person1)"
   ]
  },
  {
   "cell_type": "code",
   "execution_count": 14,
   "metadata": {},
   "outputs": [
    {
     "name": "stdout",
     "output_type": "stream",
     "text": [
      "40\n"
     ]
    }
   ],
   "source": [
    "# Pass object as an argument\n",
    "\n",
    "class Myclass:\n",
    "    def __init__(self,value):\n",
    "        self.data = value\n",
    "\n",
    "    def update(self,other):\n",
    "        self.data += other.data\n",
    "\n",
    "obj1 = Myclass(10)\n",
    "obj2 = Myclass(30)\n",
    "\n",
    "obj1.update(obj2)\n",
    "print(obj1.data)"
   ]
  },
  {
   "cell_type": "code",
   "execution_count": 16,
   "metadata": {},
   "outputs": [
    {
     "name": "stdout",
     "output_type": "stream",
     "text": [
      "arg1:10, arg2:0\n",
      "arg1:10, arg2:20\n"
     ]
    }
   ],
   "source": [
    "# Method Overloading\n",
    "\n",
    "class Myclass:\n",
    "    def my_method(self,arg1,arg2=0):\n",
    "        print(f\"arg1:{arg1}, arg2:{arg2}\")\n",
    "\n",
    "obj = Myclass()\n",
    "obj.my_method(10)\n",
    "obj.my_method(10,20)"
   ]
  },
  {
   "cell_type": "code",
   "execution_count": 23,
   "metadata": {},
   "outputs": [
    {
     "name": "stdout",
     "output_type": "stream",
     "text": [
      "0\n",
      "10\n"
     ]
    }
   ],
   "source": [
    "# Data encapsulation\n",
    "\n",
    "class MyClass:\n",
    "    def __init__(self):  \n",
    "        self.private_var = 0  \n",
    "\n",
    "    def get_private_var(self):  \n",
    "        return self.private_var  \n",
    "\n",
    "    def set_private_var(self, value):  \n",
    "        self.private_var = value  \n",
    "\n",
    "obj = MyClass()  \n",
    "\n",
    "print(obj.get_private_var())\n",
    "\n",
    "obj.set_private_var(10)\n",
    "print(obj.get_private_var())"
   ]
  },
  {
   "cell_type": "code",
   "execution_count": 21,
   "metadata": {},
   "outputs": [
    {
     "name": "stdout",
     "output_type": "stream",
     "text": [
      "50000\n",
      "59999\n"
     ]
    }
   ],
   "source": [
    "# Data Abstraction\n",
    "\n",
    "class Employee:\n",
    "    def __init__(self,name,age,salary):\n",
    "        self.name = name\n",
    "        self.age = age\n",
    "        self.salary = salary\n",
    "\n",
    "    def get_salary(self):\n",
    "        return self.salary\n",
    "    \n",
    "    def set_salary(self, new_salary):\n",
    "        if new_salary > 0:\n",
    "            self.salary = new_salary\n",
    "        else:\n",
    "            print(\"Invalid Salary\")\n",
    "\n",
    "employee1 = Employee(\"Adwaid\",19,50000)\n",
    "\n",
    "print(employee1.get_salary())\n",
    "\n",
    "employee1.set_salary(59999)\n",
    "print(employee1.get_salary())"
   ]
  },
  {
   "cell_type": "code",
   "execution_count": 1,
   "metadata": {},
   "outputs": [
    {
     "name": "stdout",
     "output_type": "stream",
     "text": [
      "40\n"
     ]
    }
   ],
   "source": [
    "# Data Hiding\n",
    "\n",
    "class MyClass:\n",
    "    def __init__(self):\n",
    "        self.__hidden_var = 0 \n",
    "\n",
    "    def get_hidden_var(self):\n",
    "        return self.__hidden_var\n",
    "\n",
    "    def set_hidden_var(self, value):\n",
    "        self.__hidden_var = value\n",
    "\n",
    "obj = MyClass()\n",
    "\n",
    "obj.set_hidden_var(40)\n",
    "\n",
    "print(obj.get_hidden_var())"
   ]
  }
 ],
 "metadata": {
  "kernelspec": {
   "display_name": "Python 3",
   "language": "python",
   "name": "python3"
  },
  "language_info": {
   "codemirror_mode": {
    "name": "ipython",
    "version": 3
   },
   "file_extension": ".py",
   "mimetype": "text/x-python",
   "name": "python",
   "nbconvert_exporter": "python",
   "pygments_lexer": "ipython3",
   "version": "3.11.4"
  }
 },
 "nbformat": 4,
 "nbformat_minor": 2
}
