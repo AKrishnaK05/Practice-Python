{
 "cells": [
  {
   "cell_type": "code",
   "execution_count": 1,
   "metadata": {},
   "outputs": [],
   "source": [
    "# Class and Object\n",
    "\n",
    "class Myclass:\n",
    "    pass\n",
    "\n",
    "obj = Myclass()"
   ]
  },
  {
   "cell_type": "code",
   "execution_count": 3,
   "metadata": {},
   "outputs": [
    {
     "name": "stdout",
     "output_type": "stream",
     "text": [
      "1\n",
      "2\n"
     ]
    }
   ],
   "source": [
    "# Instance Variables\n",
    "\n",
    "class Myclass:\n",
    "    \n",
    "    def increment(self):\n",
    "        if not hasattr(self,'instance_var'):\n",
    "            self.instance_var = 0\n",
    "        self.instance_var += 1\n",
    "        return self.instance_var\n",
    "    \n",
    "obj = Myclass()\n",
    "print(obj.increment())\n",
    "print(obj.increment())"
   ]
  }
 ],
 "metadata": {
  "kernelspec": {
   "display_name": "Python 3",
   "language": "python",
   "name": "python3"
  },
  "language_info": {
   "codemirror_mode": {
    "name": "ipython",
    "version": 3
   },
   "file_extension": ".py",
   "mimetype": "text/x-python",
   "name": "python",
   "nbconvert_exporter": "python",
   "pygments_lexer": "ipython3",
   "version": "3.11.4"
  }
 },
 "nbformat": 4,
 "nbformat_minor": 2
}
